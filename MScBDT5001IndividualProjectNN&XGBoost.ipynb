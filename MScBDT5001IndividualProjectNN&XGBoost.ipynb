{
  "nbformat": 4,
  "nbformat_minor": 0,
  "metadata": {
    "colab": {
      "name": "MScBDT5001IndividualProjectNN&XGBoost.ipynb",
      "provenance": [],
      "collapsed_sections": []
    },
    "kernelspec": {
      "name": "python3",
      "display_name": "Python 3"
    }
  },
  "cells": [
    {
      "cell_type": "markdown",
      "metadata": {
        "id": "vEKJ6W5BUjfV"
      },
      "source": [
        "# Import Library"
      ]
    },
    {
      "cell_type": "code",
      "metadata": {
        "id": "mgyHOABUwonQ",
        "colab": {
          "base_uri": "https://localhost:8080/"
        },
        "outputId": "0dd77dac-8625-46d6-f332-1fc54384bd3d"
      },
      "source": [
        "from datetime import datetime, timedelta, date\n",
        "\n",
        "from IPython.display import display\n",
        "\n",
        "from keras.backend import clear_session\n",
        "from keras.callbacks import EarlyStopping\n",
        "from keras.layers import Dense\n",
        "from keras.models import load_model, Sequential\n",
        "from keras.optimizers import Adam, RMSprop, SGD\n",
        "\n",
        "from pandas.plotting import scatter_matrix\n",
        "\n",
        "from sklearn import tree\n",
        "from sklearn.ensemble import RandomForestRegressor, RandomForestClassifier\n",
        "from sklearn.linear_model import LinearRegression\n",
        "from sklearn.metrics import mean_squared_error, r2_score\n",
        "from sklearn.model_selection import train_test_split, cross_val_score\n",
        "from sklearn.pipeline import Pipeline\n",
        "from sklearn.preprocessing import LabelEncoder, StandardScaler, MinMaxScaler\n",
        "\n",
        "from sys import exit\n",
        "\n",
        "from tensorflow.keras import activations\n",
        "\n",
        "import math\n",
        "import matplotlib.pyplot as plt\n",
        "import numpy as np\n",
        "import pandas as pd\n",
        "import pickle as pkl\n",
        "import seaborn as sns\n",
        "import statsmodels.api as sm\n",
        "import sys\n",
        "import tensorflow as tf\n",
        "import time\n",
        "import warnings\n",
        "import xgboost as xgb"
      ],
      "execution_count": 1,
      "outputs": [
        {
          "output_type": "stream",
          "text": [
            "/usr/local/lib/python3.6/dist-packages/statsmodels/tools/_testing.py:19: FutureWarning: pandas.util.testing is deprecated. Use the functions in the public API at pandas.testing instead.\n",
            "  import pandas.util.testing as tm\n"
          ],
          "name": "stderr"
        }
      ]
    },
    {
      "cell_type": "code",
      "metadata": {
        "id": "ORnYA_cMtb_K"
      },
      "source": [
        "train_data = pkl.load(open(\"train_data_prepared.pkl\", \"rb\"))"
      ],
      "execution_count": 2,
      "outputs": []
    },
    {
      "cell_type": "code",
      "metadata": {
        "id": "oO-VvCOStmGK"
      },
      "source": [
        "useless1 = [\n",
        "      'id', 'date', 'dateonly',\t\n",
        "      'month_Jan_Dec',\t'month_Mar_to_May',\t'month_Jul_Aug',\t'month_Sep_to_Nov',\t\n",
        "      'Sat_not_Holiday',\t'yd_tmr_Holiday',\t'weekday',\t\n",
        "      'hour_02_to_06',\t'hour_08_09',\t'hour_10_11',\t'hour_12_13',\t'hour_15_16',\t'hour_17_18',\n",
        "      'speedRange'\t\n",
        "      ]\n",
        "\n",
        "useless1_test = [\n",
        "      'id', 'date', 'dateonly',\t\n",
        "      'month_Jan_Dec',\t'month_Mar_to_May',\t'month_Jul_Aug',\t'month_Sep_to_Nov',\t\n",
        "      'Sat_not_Holiday',\t'yd_tmr_Holiday',\t'weekday',\t\n",
        "      'hour_02_to_06',\t'hour_08_09',\t'hour_10_11',\t'hour_12_13',\t'hour_15_16',\t'hour_17_18'\n",
        "      ]\n",
        "\n",
        "# 'id', 'date', 'dateonly',\t\n",
        "# 'year_2017', 'year_2018',\t\n",
        "# 'month_January', 'month_February',\t'month_March',\t'month_April', 'month_May',\t'month_June',\t\n",
        "# 'month_July',\t'month_August',\t'month_September',\t'month_October',\t'month_November',\t'month_December',\t\n",
        "# 'weekday_Monday',\t'weekday_Tuesday',\t'weekday_Wednesday',\t'weekday_Thursday',\t'weekday_Friday',\t\n",
        "# 'weekday_Saturday',\t'weekday_Sunday',\t\n",
        "# 'hour_00',\t'hour_01',\t'hour_02',\t'hour_03',\t'hour_04',\t'hour_05',\t'hour_06',\t'hour_07',\t\n",
        "# 'hour_08',\t'hour_09',\t'hour_10',\t'hour_11',\t'hour_12',\t'hour_13', 'hour_14',\t'hour_15',\t\n",
        "# 'hour_16',\t'hour_17',\t'hour_18',\t'hour_19',\t'hour_20',\t'hour_21',\t'hour_22',\t'hour_23',\t\n",
        "# 'holiday',\t'ydHoliday',\t'tmrHoliday',\t\n",
        "# 'month_Jan_Dec',\t'month_Mar_to_May',\t'month_Jul_Aug',\t'month_Sep_to_Nov',\t\n",
        "# 'Sat_not_Holiday',\t'yd_tmr_Holiday',\t'weekday',\t\n",
        "# 'hour_02_to_06',\t'hour_08_09',\t'hour_10_11',\t'hour_12_13',\t'hour_15_16',\t'hour_17_18',\n",
        "# 'speedRange',\t\n",
        "# 'speed', \n",
        "\n"
      ],
      "execution_count": 3,
      "outputs": []
    },
    {
      "cell_type": "code",
      "metadata": {
        "id": "Dbbyo_kyhe_g"
      },
      "source": [
        "# y = df['speed'].round(decimals=1)\n",
        "y_nn = train_data['speed']\n",
        "y_xgb = train_data['speed']\n",
        "\n",
        "x_nn = train_data.drop(['speed'] + useless1, axis=1)\n",
        "x_xgb = train_data.drop(['speed'] + useless1, axis=1)"
      ],
      "execution_count": 4,
      "outputs": []
    },
    {
      "cell_type": "code",
      "metadata": {
        "id": "zpHOG9Y11k23"
      },
      "source": [
        "x_nn = sm.add_constant(x_nn, prepend=True)"
      ],
      "execution_count": 5,
      "outputs": []
    },
    {
      "cell_type": "code",
      "metadata": {
        "id": "K41KJEsKz0M_"
      },
      "source": [
        "data_dmatrix = xgb.DMatrix(data=x_xgb,label=y_xgb)"
      ],
      "execution_count": 6,
      "outputs": []
    },
    {
      "cell_type": "markdown",
      "metadata": {
        "id": "_tAlfQZT4OrP"
      },
      "source": [
        "## Train And Test Sets"
      ]
    },
    {
      "cell_type": "code",
      "metadata": {
        "id": "dLPD-mVN3kLt"
      },
      "source": [
        "x_nn_train, x_nn_val, y_nn_train, y_nn_val = train_test_split(x_nn, y_nn, test_size=0.2, random_state = 42)"
      ],
      "execution_count": 7,
      "outputs": []
    },
    {
      "cell_type": "code",
      "metadata": {
        "id": "EJi61LigaNE9"
      },
      "source": [
        "x_xgb_train, x_xgb_val, y_xgb_train, y_xgb_val = train_test_split(x_xgb, y_xgb, test_size=0.2, random_state = 42)"
      ],
      "execution_count": 8,
      "outputs": []
    },
    {
      "cell_type": "markdown",
      "metadata": {
        "id": "RXNK8Uk14SER"
      },
      "source": [
        "## Standardization/Normalization"
      ]
    },
    {
      "cell_type": "code",
      "metadata": {
        "id": "cQZZ2mAz20If"
      },
      "source": [
        "scaler = MinMaxScaler().fit(x_nn_train)\n",
        "x_nn_train = scaler.transform(x_nn_train)\n",
        "x_nn_val = scaler.transform(x_nn_val)"
      ],
      "execution_count": 9,
      "outputs": []
    },
    {
      "cell_type": "markdown",
      "metadata": {
        "id": "BfQKqwMb4fqf"
      },
      "source": [
        "## Model Architecture"
      ]
    },
    {
      "cell_type": "code",
      "metadata": {
        "id": "oU6dwSiG4ehe"
      },
      "source": [
        "# x_nn_train.shape"
      ],
      "execution_count": 10,
      "outputs": []
    },
    {
      "cell_type": "code",
      "metadata": {
        "id": "BVP74o1CWoln"
      },
      "source": [
        "def regression(hl, act, opt, l1nn, l2nn, l3nn, l4nn, l5nn):\n",
        "  model = Sequential()\n",
        "\n",
        "  if act == 'relu':\n",
        "    actFunc = activations.relu\n",
        "  elif act == 'elu':\n",
        "    actFunc = activations.elu\n",
        "  else:\n",
        "    print('No activation is set.')\n",
        "    exit()\n",
        "\n",
        "  # Add an input layer \n",
        "  model.add(Dense(49, activation=actFunc, input_shape=(49,)))\n",
        "\n",
        "  # Add hidden layer(s)\n",
        "  model.add(Dense(l1nn, activation=actFunc))\n",
        "  if hl >= 2:\n",
        "    model.add(Dense(l2nn, activation=actFunc))\n",
        "  if hl >= 3:\n",
        "    model.add(Dense(l3nn, activation=actFunc))\n",
        "  if hl >= 4:\n",
        "    model.add(Dense(l4nn, activation=actFunc))\n",
        "  if hl >= 5:\n",
        "    model.add(Dense(l5nn, activation=actFunc))\n",
        "\n",
        "  # Add an output layer \n",
        "  model.add(Dense(1))\n",
        "\n",
        "  # list of optimizers\n",
        "  adam = Adam()\n",
        "  rmsprop = RMSprop()\n",
        "  rmsprop_lr = RMSprop(lr=0.0001)\n",
        "  sgd = SGD(lr=0.1)\n",
        "  rmsprop_lr_de = RMSprop(lr=0.0001, decay=1e-6)\n",
        "\n",
        "  if opt == 'adam':\n",
        "    model.compile(optimizer=adam, loss='mse', metrics=['mae'])\n",
        "  elif opt == 'rmsprop':\n",
        "    model.compile(optimizer=rmsprop, loss='mse', metrics=['mae'])\n",
        "  elif opt == 'rmsprop_lr':\n",
        "    model.compile(optimizer=rmsprop_lr, loss='mse', metrics=['mae'])\n",
        "  elif opt == 'sgd':\n",
        "    model.compile(optimizer=sgd, loss='mse', metrics=['mae'])\n",
        "  elif opt == 'rmsprop_lr_de':\n",
        "    model.compile(optimizer=rmsprop_lr_de, loss='mse', metrics=['mae'])\n",
        "  else:\n",
        "    print('No optimizer is set.')\n",
        "    exit()\n",
        "\n",
        "  early_stopping_monitor = EarlyStopping(monitor='val_loss', patience=20, mode='min')\n",
        "  history = model.fit(x_nn_train, y_nn_train, epochs=500, verbose=0, validation_data=(x_nn_val, y_nn_val), callbacks=[early_stopping_monitor])\n",
        "\n",
        "  mse_value, mae_value = model.evaluate(x_nn_val, y_nn_val, verbose=0)\n",
        "  if not(math.isnan(mse_value)):\n",
        "    y_pred = model.predict(x_nn_val)\n",
        "    if np.nan_to_num(r2_score(y_nn_val, y_pred)) > 0.9:\n",
        "      model.save('model_'+str(hl)+'_'+act+'_'+opt+'_'+str(l1nn)+'_'+str(l2nn)+'_'+str(l3nn)+'_'+str(l4nn)+'_'+str(l5nn)+'_file.h5')\n",
        "    return[hl, act, opt, l1nn, l2nn, l3nn, l4nn, l5nn, mse_value, mae_value, r2_score(y_nn_val, y_pred), history, model]\n",
        "  else:\n",
        "    return[hl, act, opt, l1nn, l2nn, l3nn, l4nn, l5nn, mse_value, mae_value, 0, history, model]"
      ],
      "execution_count": 11,
      "outputs": []
    },
    {
      "cell_type": "code",
      "metadata": {
        "colab": {
          "base_uri": "https://localhost:8080/"
        },
        "id": "atLzYkIjWt0S",
        "outputId": "ff498325-5107-4e57-ae83-0bacfa52a34c"
      },
      "source": [
        "start = time.time()\n",
        "hl, act, opt, l1nn, l2nn, l3nn, l4nn, l5nn, mse, mae, r2, history, model = regression(4, 'elu', 'rmsprop_lr_de', 22, 25, 22, 28, 0)\n",
        "end = time.time()\n",
        "print(str(int(round(end - start))), \" seconds\")\n",
        "# print(\"Estimate total run time \", str(int(round((end - start)*1.4222))), \" hours\")"
      ],
      "execution_count": 12,
      "outputs": [
        {
          "output_type": "stream",
          "text": [
            "91  seconds\n"
          ],
          "name": "stdout"
        }
      ]
    },
    {
      "cell_type": "markdown",
      "metadata": {
        "id": "gaaoLfdP-Hwk"
      },
      "source": [
        "## Inspect Model"
      ]
    },
    {
      "cell_type": "code",
      "metadata": {
        "colab": {
          "base_uri": "https://localhost:8080/"
        },
        "id": "ABwXsoxD8WW7",
        "outputId": "57734c70-5130-406a-ed90-e49b4a51d176"
      },
      "source": [
        "model.output_shape"
      ],
      "execution_count": 13,
      "outputs": [
        {
          "output_type": "execute_result",
          "data": {
            "text/plain": [
              "(None, 1)"
            ]
          },
          "metadata": {
            "tags": []
          },
          "execution_count": 13
        }
      ]
    },
    {
      "cell_type": "code",
      "metadata": {
        "colab": {
          "base_uri": "https://localhost:8080/"
        },
        "id": "XAyxMnBi-WlJ",
        "outputId": "6cb25ae5-0a4a-4ce3-82c1-6a067fba3c52"
      },
      "source": [
        "model.summary()"
      ],
      "execution_count": 14,
      "outputs": [
        {
          "output_type": "stream",
          "text": [
            "Model: \"sequential\"\n",
            "_________________________________________________________________\n",
            "Layer (type)                 Output Shape              Param #   \n",
            "=================================================================\n",
            "dense (Dense)                (None, 49)                2450      \n",
            "_________________________________________________________________\n",
            "dense_1 (Dense)              (None, 22)                1100      \n",
            "_________________________________________________________________\n",
            "dense_2 (Dense)              (None, 25)                575       \n",
            "_________________________________________________________________\n",
            "dense_3 (Dense)              (None, 22)                572       \n",
            "_________________________________________________________________\n",
            "dense_4 (Dense)              (None, 28)                644       \n",
            "_________________________________________________________________\n",
            "dense_5 (Dense)              (None, 1)                 29        \n",
            "=================================================================\n",
            "Total params: 5,370\n",
            "Trainable params: 5,370\n",
            "Non-trainable params: 0\n",
            "_________________________________________________________________\n"
          ],
          "name": "stdout"
        }
      ]
    },
    {
      "cell_type": "markdown",
      "metadata": {
        "id": "xOKU0SU9-bVx"
      },
      "source": [
        "## Evaluate Your Model's Performance"
      ]
    },
    {
      "cell_type": "code",
      "metadata": {
        "colab": {
          "base_uri": "https://localhost:8080/",
          "height": 295
        },
        "id": "hLNJtRvY-asX",
        "outputId": "6d58fe04-9afd-48aa-9ccf-e67fadb2eaaf"
      },
      "source": [
        "# print(history.history.keys())\n",
        "# \"Loss\"\n",
        "plt.plot(history.history['loss'])\n",
        "plt.plot(history.history['val_loss'])\n",
        "plt.title('Model Mean Squared Error')\n",
        "plt.ylabel('Mean Squared Error')\n",
        "plt.xlabel('Epoch')\n",
        "plt.legend(['Train', 'Validation'], loc='upper right')\n",
        "plt.show()"
      ],
      "execution_count": 15,
      "outputs": [
        {
          "output_type": "display_data",
          "data": {
            "image/png": "[encoded data removed]",
            "text/plain": [
              "<Figure size 432x288 with 1 Axes>"
            ]
          },
          "metadata": {
            "tags": [],
            "needs_background": "light"
          }
        }
      ]
    },
    {
      "cell_type": "code",
      "metadata": {
        "colab": {
          "base_uri": "https://localhost:8080/",
          "height": 295
        },
        "id": "5Ul4yvht-gRr",
        "outputId": "45782d53-b007-4436-ed9f-00a02bb0007f"
      },
      "source": [
        "# print(history.history.keys())\n",
        "# \"Mae\"\n",
        "plt.plot(history.history['mae'])\n",
        "plt.plot(history.history['val_mae'])\n",
        "plt.title('Model Mean Absolute Error')\n",
        "plt.ylabel('Mean Absolute Error')\n",
        "plt.xlabel('Epoch')\n",
        "plt.legend(['Train', 'Validation'], loc='upper right')\n",
        "plt.show()"
      ],
      "execution_count": 16,
      "outputs": [
        {
          "output_type": "display_data",
          "data": {
            "image/png": "[encoded data removed]",
            "text/plain": [
              "<Figure size 432x288 with 1 Axes>"
            ]
          },
          "metadata": {
            "tags": [],
            "needs_background": "light"
          }
        }
      ]
    },
    {
      "cell_type": "code",
      "metadata": {
        "colab": {
          "base_uri": "https://localhost:8080/",
          "height": 415
        },
        "id": "UfUSYpwH-j2w",
        "outputId": "49ecef3b-62cb-4afc-876f-314045b66180"
      },
      "source": [
        "# pd.set_option('display.max_row', None)\n",
        "display(pd.DataFrame(history.history))\n",
        "# pd.set_option('display.max_row', 60)"
      ],
      "execution_count": 17,
      "outputs": [
        {
          "output_type": "display_data",
          "data": {
            "text/html": [
              "<div>\n",
              "<style scoped>\n",
              "    .dataframe tbody tr th:only-of-type {\n",
              "        vertical-align: middle;\n",
              "    }\n",
              "\n",
              "    .dataframe tbody tr th {\n",
              "        vertical-align: top;\n",
              "    }\n",
              "\n",
              "    .dataframe thead th {\n",
              "        text-align: right;\n",
              "    }\n",
              "</style>\n",
              "<table border=\"1\" class=\"dataframe\">\n",
              "  <thead>\n",
              "    <tr style=\"text-align: right;\">\n",
              "      <th></th>\n",
              "      <th>loss</th>\n",
              "      <th>mae</th>\n",
              "      <th>val_loss</th>\n",
              "      <th>val_mae</th>\n",
              "    </tr>\n",
              "  </thead>\n",
              "  <tbody>\n",
              "    <tr>\n",
              "      <th>0</th>\n",
              "      <td>1099.166504</td>\n",
              "      <td>30.240204</td>\n",
              "      <td>872.532043</td>\n",
              "      <td>26.270432</td>\n",
              "    </tr>\n",
              "    <tr>\n",
              "      <th>1</th>\n",
              "      <td>506.103119</td>\n",
              "      <td>18.814350</td>\n",
              "      <td>199.790329</td>\n",
              "      <td>12.695545</td>\n",
              "    </tr>\n",
              "    <tr>\n",
              "      <th>2</th>\n",
              "      <td>156.165955</td>\n",
              "      <td>11.252086</td>\n",
              "      <td>134.917023</td>\n",
              "      <td>10.353622</td>\n",
              "    </tr>\n",
              "    <tr>\n",
              "      <th>3</th>\n",
              "      <td>110.936218</td>\n",
              "      <td>9.257153</td>\n",
              "      <td>86.552132</td>\n",
              "      <td>8.011990</td>\n",
              "    </tr>\n",
              "    <tr>\n",
              "      <th>4</th>\n",
              "      <td>64.280670</td>\n",
              "      <td>6.809151</td>\n",
              "      <td>45.275993</td>\n",
              "      <td>5.735317</td>\n",
              "    </tr>\n",
              "    <tr>\n",
              "      <th>...</th>\n",
              "      <td>...</td>\n",
              "      <td>...</td>\n",
              "      <td>...</td>\n",
              "      <td>...</td>\n",
              "    </tr>\n",
              "    <tr>\n",
              "      <th>224</th>\n",
              "      <td>12.602009</td>\n",
              "      <td>2.502965</td>\n",
              "      <td>12.228205</td>\n",
              "      <td>2.505286</td>\n",
              "    </tr>\n",
              "    <tr>\n",
              "      <th>225</th>\n",
              "      <td>12.626381</td>\n",
              "      <td>2.499266</td>\n",
              "      <td>12.333830</td>\n",
              "      <td>2.530090</td>\n",
              "    </tr>\n",
              "    <tr>\n",
              "      <th>226</th>\n",
              "      <td>12.614792</td>\n",
              "      <td>2.501424</td>\n",
              "      <td>12.694440</td>\n",
              "      <td>2.625653</td>\n",
              "    </tr>\n",
              "    <tr>\n",
              "      <th>227</th>\n",
              "      <td>12.604739</td>\n",
              "      <td>2.502239</td>\n",
              "      <td>12.290179</td>\n",
              "      <td>2.545659</td>\n",
              "    </tr>\n",
              "    <tr>\n",
              "      <th>228</th>\n",
              "      <td>12.595425</td>\n",
              "      <td>2.495180</td>\n",
              "      <td>12.269859</td>\n",
              "      <td>2.530243</td>\n",
              "    </tr>\n",
              "  </tbody>\n",
              "</table>\n",
              "<p>229 rows × 4 columns</p>\n",
              "</div>"
            ],
            "text/plain": [
              "            loss        mae    val_loss    val_mae\n",
              "0    1099.166504  30.240204  872.532043  26.270432\n",
              "1     506.103119  18.814350  199.790329  12.695545\n",
              "2     156.165955  11.252086  134.917023  10.353622\n",
              "3     110.936218   9.257153   86.552132   8.011990\n",
              "4      64.280670   6.809151   45.275993   5.735317\n",
              "..           ...        ...         ...        ...\n",
              "224    12.602009   2.502965   12.228205   2.505286\n",
              "225    12.626381   2.499266   12.333830   2.530090\n",
              "226    12.614792   2.501424   12.694440   2.625653\n",
              "227    12.604739   2.502239   12.290179   2.545659\n",
              "228    12.595425   2.495180   12.269859   2.530243\n",
              "\n",
              "[229 rows x 4 columns]"
            ]
          },
          "metadata": {
            "tags": []
          }
        }
      ]
    },
    {
      "cell_type": "code",
      "metadata": {
        "id": "0ATuAI__-njh"
      },
      "source": [
        "mse_value, mae_value = model.evaluate(x_nn_val, y_nn_val, verbose=0)"
      ],
      "execution_count": 18,
      "outputs": []
    },
    {
      "cell_type": "code",
      "metadata": {
        "colab": {
          "base_uri": "https://localhost:8080/"
        },
        "id": "-1yl5ALP-pNw",
        "outputId": "b170443c-f0af-4de7-cfca-bb5d1067ad0b"
      },
      "source": [
        "print(mse_value)"
      ],
      "execution_count": 19,
      "outputs": [
        {
          "output_type": "stream",
          "text": [
            "12.269859313964844\n"
          ],
          "name": "stdout"
        }
      ]
    },
    {
      "cell_type": "code",
      "metadata": {
        "colab": {
          "base_uri": "https://localhost:8080/"
        },
        "id": "B5zmlsYY-q38",
        "outputId": "8213671d-8045-4fa9-eabe-0c97bc34644f"
      },
      "source": [
        "print(mae_value)"
      ],
      "execution_count": 20,
      "outputs": [
        {
          "output_type": "stream",
          "text": [
            "2.530242919921875\n"
          ],
          "name": "stdout"
        }
      ]
    },
    {
      "cell_type": "markdown",
      "metadata": {
        "id": "KR6B03zB-tH5"
      },
      "source": [
        "## Prediction"
      ]
    },
    {
      "cell_type": "code",
      "metadata": {
        "id": "WryQ0G2B-vVI"
      },
      "source": [
        "# For regression\n",
        "y_pred = model.predict(x_nn_val)"
      ],
      "execution_count": 21,
      "outputs": []
    },
    {
      "cell_type": "code",
      "metadata": {
        "colab": {
          "base_uri": "https://localhost:8080/"
        },
        "id": "XPVlm4Oi-xsQ",
        "outputId": "2c75cb23-950b-4b0d-cff2-b6abbd30ab37"
      },
      "source": [
        "r2_score(y_nn_val, y_pred)"
      ],
      "execution_count": 22,
      "outputs": [
        {
          "output_type": "execute_result",
          "data": {
            "text/plain": [
              "0.9337092028574574"
            ]
          },
          "metadata": {
            "tags": []
          },
          "execution_count": 22
        }
      ]
    },
    {
      "cell_type": "markdown",
      "metadata": {
        "id": "wJvNwIHm-0gx"
      },
      "source": [
        "## Save/Reload Models"
      ]
    },
    {
      "cell_type": "code",
      "metadata": {
        "id": "KRFihg1h-2uM"
      },
      "source": [
        "# model.save('best_model_file.h5')"
      ],
      "execution_count": 23,
      "outputs": []
    },
    {
      "cell_type": "code",
      "metadata": {
        "id": "2bvXk1Cw-4cq"
      },
      "source": [
        "model = load_model('best_model_file.h5')"
      ],
      "execution_count": 24,
      "outputs": []
    },
    {
      "cell_type": "markdown",
      "metadata": {
        "id": "mf33eXb5C9P0"
      },
      "source": [
        "# Bayesian Optimization"
      ]
    },
    {
      "cell_type": "code",
      "metadata": {
        "colab": {
          "base_uri": "https://localhost:8080/"
        },
        "id": "1wrjql6nF6HP",
        "outputId": "ecc2c789-48fb-49a6-dd11-453eaf66173f"
      },
      "source": [
        "pip install bayesian-optimization"
      ],
      "execution_count": 25,
      "outputs": [
        {
          "output_type": "stream",
          "text": [
            "Collecting bayesian-optimization\n",
            "  Downloading https://files.pythonhosted.org/packages/bb/7a/fd8059a3881d3ab37ac8f72f56b73937a14e8bb14a9733e68cc8b17dbe3c/bayesian-optimization-1.2.0.tar.gz\n",
            "Requirement already satisfied: numpy>=1.9.0 in /usr/local/lib/python3.6/dist-packages (from bayesian-optimization) (1.18.5)\n",
            "Requirement already satisfied: scipy>=0.14.0 in /usr/local/lib/python3.6/dist-packages (from bayesian-optimization) (1.4.1)\n",
            "Requirement already satisfied: scikit-learn>=0.18.0 in /usr/local/lib/python3.6/dist-packages (from bayesian-optimization) (0.22.2.post1)\n",
            "Requirement already satisfied: joblib>=0.11 in /usr/local/lib/python3.6/dist-packages (from scikit-learn>=0.18.0->bayesian-optimization) (0.17.0)\n",
            "Building wheels for collected packages: bayesian-optimization\n",
            "  Building wheel for bayesian-optimization (setup.py) ... \u001b[?25l\u001b[?25hdone\n",
            "  Created wheel for bayesian-optimization: filename=bayesian_optimization-1.2.0-cp36-none-any.whl size=11685 sha256=3f62cdd7a69febe5328114ee6b23833164b4deb46a72db37cb10dc08dde71fbf\n",
            "  Stored in directory: /root/.cache/pip/wheels/5a/56/ae/e0e3c1fc1954dc3ec712e2df547235ed072b448094d8f94aec\n",
            "Successfully built bayesian-optimization\n",
            "Installing collected packages: bayesian-optimization\n",
            "Successfully installed bayesian-optimization-1.2.0\n"
          ],
          "name": "stdout"
        }
      ]
    },
    {
      "cell_type": "code",
      "metadata": {
        "id": "m7MvQzVAC8rf"
      },
      "source": [
        "from bayes_opt import BayesianOptimization"
      ],
      "execution_count": 26,
      "outputs": []
    },
    {
      "cell_type": "code",
      "metadata": {
        "id": "L6EWDhedGMX7"
      },
      "source": [
        "def bo_tune_xgb(colsample_bytree, learning_rate, max_depth, alpha, n_estimators):\n",
        "  params = {'objective': 'reg:squarederror',\n",
        "        'colsample_bytree': colsample_bytree, #0-1\n",
        "        'learning_rate': learning_rate, #0-1\n",
        "        'max_depth': int(max_depth), #3-10\n",
        "        'alpha': int(alpha), #5-15\n",
        "        'n_estimators': int(n_estimators), #100-200\n",
        "        'eval_metric': 'rmse'\n",
        "        }\n",
        "  cv_result = xgb.cv(params, data_dmatrix, num_boost_round=100, nfold=10)\n",
        "  return -1.0 * cv_result['test-rmse-mean'].iloc[-1]"
      ],
      "execution_count": 27,
      "outputs": []
    },
    {
      "cell_type": "code",
      "metadata": {
        "id": "JTDJs4E_GUCC"
      },
      "source": [
        "xgb_bo = BayesianOptimization(bo_tune_xgb, {'colsample_bytree': (0, 1),\n",
        "                'learning_rate':(0,1),\n",
        "                'max_depth': (3, 100),\n",
        "                'alpha':(5,15),\n",
        "                'n_estimators':(100,200)\n",
        "                })"
      ],
      "execution_count": 28,
      "outputs": []
    },
    {
      "cell_type": "code",
      "metadata": {
        "id": "P1VlXYJ6G5dl"
      },
      "source": [
        "# xgb_bo.maximize(n_iter=10, init_points=8, acq='ei')"
      ],
      "execution_count": 29,
      "outputs": []
    },
    {
      "cell_type": "code",
      "metadata": {
        "id": "Us-ZW5smG_YF"
      },
      "source": [
        "# #Extracting the best parameters\n",
        "# params = xgb_bo.max['params']\n",
        "# print(params)"
      ],
      "execution_count": 30,
      "outputs": []
    },
    {
      "cell_type": "code",
      "metadata": {
        "id": "wNbgnxlkZYBu"
      },
      "source": [
        "params = {'alpha': 7.822901166008281, 'colsample_bytree': 0.5930972611922415, 'learning_rate': 0.12966598105968694, 'max_depth': 12.971963306519237, 'n_estimators': 141.86611158222127}"
      ],
      "execution_count": 31,
      "outputs": []
    },
    {
      "cell_type": "code",
      "metadata": {
        "id": "w0-NNkSRHDs1"
      },
      "source": [
        "#Converting the max_depth and n_estimator values from float to int\n",
        "params['max_depth']= int(params['max_depth'])\n",
        "params['n_estimators']= int(params['n_estimators'])"
      ],
      "execution_count": 32,
      "outputs": []
    },
    {
      "cell_type": "code",
      "metadata": {
        "id": "M3Jpx5n0HFdH"
      },
      "source": [
        "xg_reg2 = xgb.XGBRegressor(**params)"
      ],
      "execution_count": 33,
      "outputs": []
    },
    {
      "cell_type": "code",
      "metadata": {
        "colab": {
          "base_uri": "https://localhost:8080/"
        },
        "id": "0WbWAfAPHtW-",
        "outputId": "ef090fbb-cf99-4ff7-8970-fe375c48e7ac"
      },
      "source": [
        "xg_reg2.fit(x_xgb_train, y_xgb_train)\n",
        "\n",
        "preds = xg_reg2.predict(x_xgb_val)"
      ],
      "execution_count": 34,
      "outputs": [
        {
          "output_type": "stream",
          "text": [
            "[15:45:42] WARNING: /workspace/src/objective/regression_obj.cu:152: reg:linear is now deprecated in favor of reg:squarederror.\n"
          ],
          "name": "stdout"
        }
      ]
    },
    {
      "cell_type": "code",
      "metadata": {
        "colab": {
          "base_uri": "https://localhost:8080/"
        },
        "id": "Y7d6UO9yHtW-",
        "outputId": "1944e968-fe1d-4849-f1d1-7d0d7bdabcb4"
      },
      "source": [
        "mse = mean_squared_error(y_xgb_val, preds)\n",
        "print(\"MSE: %f\" % (mse))"
      ],
      "execution_count": 35,
      "outputs": [
        {
          "output_type": "stream",
          "text": [
            "MSE: 14.283351\n"
          ],
          "name": "stdout"
        }
      ]
    },
    {
      "cell_type": "code",
      "metadata": {
        "id": "eK9HAoFOSxSc"
      },
      "source": [
        "import pickle\n",
        "# save model to file\n",
        "# pickle.dump(xg_reg2, open(\"pima.pickle.dat\", \"wb\"))"
      ],
      "execution_count": 36,
      "outputs": []
    },
    {
      "cell_type": "code",
      "metadata": {
        "colab": {
          "base_uri": "https://localhost:8080/"
        },
        "id": "cG4XoXg8SxFO",
        "outputId": "9a9be9ae-a4f5-467e-d8c8-2d789571c06a"
      },
      "source": [
        "# load model from file\n",
        "xg_reg2 = pickle.load(open(\"pima.pickle.dat\", \"rb\"))"
      ],
      "execution_count": 37,
      "outputs": [
        {
          "output_type": "stream",
          "text": [
            "[15:45:48] WARNING: /workspace/src/objective/regression_obj.cu:152: reg:linear is now deprecated in favor of reg:squarederror.\n"
          ],
          "name": "stdout"
        }
      ]
    },
    {
      "cell_type": "markdown",
      "metadata": {
        "id": "v3WyxzlnMa2_"
      },
      "source": [
        "# Test the model"
      ]
    },
    {
      "cell_type": "code",
      "metadata": {
        "id": "Wyihqt5bSmjz"
      },
      "source": [
        "test_data = pd.read_csv('test.csv')"
      ],
      "execution_count": 38,
      "outputs": []
    },
    {
      "cell_type": "code",
      "metadata": {
        "id": "4rYs5tHnzowq"
      },
      "source": [
        "# Load 2017 and 2018 Public Holiday Data\n",
        "\n",
        "ph_data = pd.read_csv('2017_2018PublicHolidayWithoutSunday.csv')\n",
        "\n",
        "ph_data['date'] = pd.to_datetime(ph_data['date'], format='%d/%m/%Y')"
      ],
      "execution_count": 39,
      "outputs": []
    },
    {
      "cell_type": "code",
      "metadata": {
        "id": "HUGbcfz_yUdt"
      },
      "source": [
        "def dataPreparation(data):\n",
        "  result = pd.DataFrame()\n",
        "  result = data\n",
        "  result['date'] = pd.to_datetime(result['date'], format='%d/%m/%Y %H:%M')\n",
        "\n",
        "  # Extract Date from DateTime\n",
        "  result['dateonly'] = result['date'].dt.date\n",
        "\n",
        "  # Extract Year from DateTime\n",
        "  result['year'] = result['date'].dt.year\n",
        "  result = pd.get_dummies(result, columns=['year'])\n",
        "\n",
        "  # Extract Month from DateTime\n",
        "  result['month'] = result['date'].dt.month_name()\n",
        "  result = pd.get_dummies(result, columns=['month'])\n",
        "\n",
        "  # Extract Weekday (Monday to Sunday) from DateTime\n",
        "  result['weekday'] = result['date'].dt.day_name()\n",
        "  result = pd.get_dummies(result, columns=['weekday'])\n",
        "\n",
        "  # Extract Weekday or Weekend from DateTime\n",
        "  # result['weekend'] = ((pd.DatetimeIndex(result.date).dayofweek) // 5 == 1).astype(int)\n",
        "\n",
        "  # Extract Time from DateTime\n",
        "  result['hour'] = result['date'].dt.strftime('%H')\n",
        "  result = pd.get_dummies(result, columns=['hour'])\n",
        "\n",
        "  # The Date is Public Holiday (What is the definition? Sun? Sat?)\n",
        "  holiday_dict = {}\n",
        "  for index, holiday in ph_data['date'].items():\n",
        "    holiday_dict[holiday] = 1\n",
        "\n",
        "  result['holiday']= result['dateonly'].map(holiday_dict)\n",
        "  result['holiday'] = result['holiday'].replace(np.nan, 0)\n",
        "\n",
        "  # Tomorrow is Purlic Holiday\n",
        "  tmrHoliday_dict = {}\n",
        "  for index, holiday in ph_data['date'].items():\n",
        "    tmrHoliday_dict[holiday - timedelta(days=1)] = 1\n",
        "\n",
        "  result['tmrHoliday']= result['dateonly'].map(tmrHoliday_dict)\n",
        "  result['tmrHoliday'] = result['tmrHoliday'].replace(np.nan, 0)\n",
        "\n",
        "  # Yesterday is Purlic Holiday\n",
        "  ydHoliday_dict = {}\n",
        "  for index, holiday in ph_data['date'].items():\n",
        "    ydHoliday_dict[holiday + timedelta(days=1)] = 1\n",
        "\n",
        "  result['ydHoliday']= result['dateonly'].map(ydHoliday_dict)\n",
        "  result['ydHoliday'] = result['ydHoliday'].replace(np.nan, 0)\n",
        "  return result"
      ],
      "execution_count": 40,
      "outputs": []
    },
    {
      "cell_type": "code",
      "metadata": {
        "id": "ZtkY0OO3ScT7"
      },
      "source": [
        "test_data = dataPreparation(test_data)"
      ],
      "execution_count": 41,
      "outputs": []
    },
    {
      "cell_type": "code",
      "metadata": {
        "id": "5YbYA9eHrFaM"
      },
      "source": [
        "def dataPrepExt(data):\n",
        "  data['month_Jan_Dec'] = np.where((data['month_January'] == 1) | (data['month_December'] == 1), 1, 0)\n",
        "  data['month_Mar_to_May'] = np.where((data['month_March'] == 1) | (data['month_April'] == 1) | (data['month_May'] == 1), 1, 0)\n",
        "  data['month_Jul_Aug'] = np.where((data['month_July'] == 1) | (data['month_August'] == 1), 1, 0)\n",
        "  data['month_Sep_to_Nov'] = np.where((data['month_September'] == 1) | (data['month_October'] == 1) | (data['month_November'] == 1), 1, 0)\n",
        "  data['Sat_not_Holiday'] = np.where((data['weekday_Saturday'] == 1) & (data['holiday'] == 0), 1, 0)\n",
        "  data['yd_tmr_Holiday'] = np.where(((data['ydHoliday'] == 1) | (data['tmrHoliday'] == 1)) & (data['weekday_Saturday'] == 0) & (data['weekday_Sunday'] == 0) & (data['holiday'] == 0), 1, 0)\n",
        "  data['weekday'] = np.where((data['yd_tmr_Holiday'] == 0) & (data['weekday_Saturday'] == 0) & (data['weekday_Sunday'] == 0) & (data['holiday'] == 0), 1, 0)\n",
        "  data['hour_02_to_06'] = np.where((data['hour_02'] == 1) | (data['hour_03'] == 1) | (data['hour_04'] == 1) | (data['hour_05'] == 1) | (data['hour_06'] == 1), 1, 0)\n",
        "  data['hour_08_09'] = np.where((data['hour_08'] == 1) | (data['hour_09'] == 1), 1, 0)\n",
        "  data['hour_10_11'] = np.where((data['hour_10'] == 1) | (data['hour_11'] == 1), 1, 0)\n",
        "  data['hour_12_13'] = np.where((data['hour_12'] == 1) | (data['hour_13'] == 1), 1, 0)\n",
        "  data['hour_15_16'] = np.where((data['hour_15'] == 1) | (data['hour_16'] == 1), 1, 0)\n",
        "  data['hour_17_18'] = np.where((data['hour_17'] == 1) | (data['hour_18'] == 1), 1, 0)\n",
        "  return data"
      ],
      "execution_count": 42,
      "outputs": []
    },
    {
      "cell_type": "code",
      "metadata": {
        "id": "GbXMDMXnrsSN"
      },
      "source": [
        "test_data = dataPrepExt(test_data)"
      ],
      "execution_count": 43,
      "outputs": []
    },
    {
      "cell_type": "code",
      "metadata": {
        "id": "vPt_Ju2FnSvC"
      },
      "source": [
        "# x_test = extract_features(test_data)\n",
        "\n",
        "x_test = test_data.drop(useless1_test, axis=1)"
      ],
      "execution_count": 44,
      "outputs": []
    },
    {
      "cell_type": "code",
      "metadata": {
        "id": "D0PpSYac1ZV1"
      },
      "source": [
        "x_test[\"year_2017\"] = 0"
      ],
      "execution_count": 45,
      "outputs": []
    },
    {
      "cell_type": "code",
      "metadata": {
        "id": "dJ0K_nYLThIt"
      },
      "source": [
        "cols = x_test.columns.tolist()\n",
        "cols = cols[-1:] + cols[:-1]\n",
        "x_test = x_test[cols]"
      ],
      "execution_count": 46,
      "outputs": []
    },
    {
      "cell_type": "code",
      "metadata": {
        "id": "PxrjTO-mULOA"
      },
      "source": [
        "x_nn_test = sm.add_constant(x_test, prepend=True, has_constant='add')"
      ],
      "execution_count": 47,
      "outputs": []
    },
    {
      "cell_type": "code",
      "metadata": {
        "id": "DBH74HI4UTaG",
        "colab": {
          "base_uri": "https://localhost:8080/"
        },
        "outputId": "c9e65fd0-702a-4172-db87-a39b3c25d0f8"
      },
      "source": [
        "x_test.shape"
      ],
      "execution_count": 48,
      "outputs": [
        {
          "output_type": "execute_result",
          "data": {
            "text/plain": [
              "(3504, 48)"
            ]
          },
          "metadata": {
            "tags": []
          },
          "execution_count": 48
        }
      ]
    },
    {
      "cell_type": "code",
      "metadata": {
        "id": "lmJBDHsqUDX8"
      },
      "source": [
        "x_nn_test = scaler.transform(x_nn_test)\n",
        "pred_y_nn_test = model.predict(x_nn_test)"
      ],
      "execution_count": 49,
      "outputs": []
    },
    {
      "cell_type": "code",
      "metadata": {
        "id": "QueJYqNWPxlb"
      },
      "source": [
        "pred_y_test = xg_reg2.predict(x_test)"
      ],
      "execution_count": 50,
      "outputs": []
    },
    {
      "cell_type": "code",
      "metadata": {
        "id": "v0YW_hQ9a30M"
      },
      "source": [
        "pred_y_combine = np.mean([pred_y_nn_test.flatten(),pred_y_test], axis=0)"
      ],
      "execution_count": 51,
      "outputs": []
    },
    {
      "cell_type": "code",
      "metadata": {
        "colab": {
          "base_uri": "https://localhost:8080/"
        },
        "id": "62UFqyXDbGoc",
        "outputId": "15fcbaf6-746e-4e81-8eff-3a7100871957"
      },
      "source": [
        "pred_y_combine.shape"
      ],
      "execution_count": 52,
      "outputs": [
        {
          "output_type": "execute_result",
          "data": {
            "text/plain": [
              "(3504,)"
            ]
          },
          "metadata": {
            "tags": []
          },
          "execution_count": 52
        }
      ]
    },
    {
      "cell_type": "code",
      "metadata": {
        "id": "wLJamJpnWTQX"
      },
      "source": [
        "submission = pd.DataFrame(pred_y_nn_test, columns=[\"speed\"])"
      ],
      "execution_count": 53,
      "outputs": []
    },
    {
      "cell_type": "code",
      "metadata": {
        "id": "duZud7fUtWTN"
      },
      "source": [
        "submission['id'] = np.arange(len(submission))\n",
        "cols = submission.columns.tolist()\n",
        "cols = cols[-1:] + cols[:-1]\n",
        "submission = submission[cols]"
      ],
      "execution_count": 54,
      "outputs": []
    },
    {
      "cell_type": "code",
      "metadata": {
        "id": "xwUrKMdTtfT8",
        "colab": {
          "base_uri": "https://localhost:8080/",
          "height": 415
        },
        "outputId": "97e4afb9-1e64-402b-a2d3-b3d18b927ed8"
      },
      "source": [
        "submission"
      ],
      "execution_count": 55,
      "outputs": [
        {
          "output_type": "execute_result",
          "data": {
            "text/html": [
              "<div>\n",
              "<style scoped>\n",
              "    .dataframe tbody tr th:only-of-type {\n",
              "        vertical-align: middle;\n",
              "    }\n",
              "\n",
              "    .dataframe tbody tr th {\n",
              "        vertical-align: top;\n",
              "    }\n",
              "\n",
              "    .dataframe thead th {\n",
              "        text-align: right;\n",
              "    }\n",
              "</style>\n",
              "<table border=\"1\" class=\"dataframe\">\n",
              "  <thead>\n",
              "    <tr style=\"text-align: right;\">\n",
              "      <th></th>\n",
              "      <th>id</th>\n",
              "      <th>speed</th>\n",
              "    </tr>\n",
              "  </thead>\n",
              "  <tbody>\n",
              "    <tr>\n",
              "      <th>0</th>\n",
              "      <td>0</td>\n",
              "      <td>47.803398</td>\n",
              "    </tr>\n",
              "    <tr>\n",
              "      <th>1</th>\n",
              "      <td>1</td>\n",
              "      <td>46.851143</td>\n",
              "    </tr>\n",
              "    <tr>\n",
              "      <th>2</th>\n",
              "      <td>2</td>\n",
              "      <td>37.789803</td>\n",
              "    </tr>\n",
              "    <tr>\n",
              "      <th>3</th>\n",
              "      <td>3</td>\n",
              "      <td>28.895809</td>\n",
              "    </tr>\n",
              "    <tr>\n",
              "      <th>4</th>\n",
              "      <td>4</td>\n",
              "      <td>38.149109</td>\n",
              "    </tr>\n",
              "    <tr>\n",
              "      <th>...</th>\n",
              "      <td>...</td>\n",
              "      <td>...</td>\n",
              "    </tr>\n",
              "    <tr>\n",
              "      <th>3499</th>\n",
              "      <td>3499</td>\n",
              "      <td>14.809011</td>\n",
              "    </tr>\n",
              "    <tr>\n",
              "      <th>3500</th>\n",
              "      <td>3500</td>\n",
              "      <td>24.907930</td>\n",
              "    </tr>\n",
              "    <tr>\n",
              "      <th>3501</th>\n",
              "      <td>3501</td>\n",
              "      <td>46.228886</td>\n",
              "    </tr>\n",
              "    <tr>\n",
              "      <th>3502</th>\n",
              "      <td>3502</td>\n",
              "      <td>40.710773</td>\n",
              "    </tr>\n",
              "    <tr>\n",
              "      <th>3503</th>\n",
              "      <td>3503</td>\n",
              "      <td>44.235973</td>\n",
              "    </tr>\n",
              "  </tbody>\n",
              "</table>\n",
              "<p>3504 rows × 2 columns</p>\n",
              "</div>"
            ],
            "text/plain": [
              "        id      speed\n",
              "0        0  47.803398\n",
              "1        1  46.851143\n",
              "2        2  37.789803\n",
              "3        3  28.895809\n",
              "4        4  38.149109\n",
              "...    ...        ...\n",
              "3499  3499  14.809011\n",
              "3500  3500  24.907930\n",
              "3501  3501  46.228886\n",
              "3502  3502  40.710773\n",
              "3503  3503  44.235973\n",
              "\n",
              "[3504 rows x 2 columns]"
            ]
          },
          "metadata": {
            "tags": []
          },
          "execution_count": 55
        }
      ]
    },
    {
      "cell_type": "code",
      "metadata": {
        "id": "kFXLmtgHtO3w"
      },
      "source": [
        "submission.to_csv(\"Submission.csv\", index=False)\n",
        "# limit lowerbound and upperbound\n",
        "# use 2017 to train and 2018 to val"
      ],
      "execution_count": 56,
      "outputs": []
    }
  ]
}